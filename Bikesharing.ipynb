{
  "nbformat": 4,
  "nbformat_minor": 0,
  "metadata": {
    "colab": {
      "name": "Bikesharing.ipynb",
      "provenance": [],
      "include_colab_link": true
    },
    "kernelspec": {
      "name": "python3",
      "display_name": "Python 3"
    }
  },
  "cells": [
    {
      "cell_type": "markdown",
      "metadata": {
        "id": "view-in-github",
        "colab_type": "text"
      },
      "source": [
        "<a href=\"https://colab.research.google.com/github/KeerthiMettu/Rides-Data-Analysis/blob/main/Bikesharing.ipynb\" target=\"_parent\"><img src=\"https://colab.research.google.com/assets/colab-badge.svg\" alt=\"Open In Colab\"/></a>"
      ]
    },
    {
      "cell_type": "markdown",
      "metadata": {
        "id": "f7dBekPiWEEu"
      },
      "source": [
        "I worked as a Software developer in a UK based project called “Smart Bike System” for 2 years. It is a bike rental system in which, customers use the government-aided bicycle rental services throughout the year. Being a backend developer and a bug fixer, I used to undertake different problems faced in both software and hardware related software issues from different customers and front end assistance teams. I was always curious to know about the scale of my entire project, its statistics in revenue and their business operating level in stabilised cities. The scope of this project always used to baffle me with some endless software upgrades. This is a pivotal reason to go in search of any bike rental platform real data. In that quest, I desisted myself with a ‘Bike Sharing’ dataset from Kaggle."
      ]
    },
    {
      "cell_type": "code",
      "metadata": {
        "id": "zpbTG-JfPO2x"
      },
      "source": [
        "import numpy as np\n",
        "import pandas as pd\n",
        "import matplotlib.pyplot as plt\n",
        "import seaborn as sns"
      ],
      "execution_count": null,
      "outputs": []
    },
    {
      "cell_type": "code",
      "metadata": {
        "id": "wNLf8SDzPkJr",
        "colab": {
          "base_uri": "https://localhost:8080/",
          "height": 34
        },
        "outputId": "cc4074f5-d314-413c-8483-cbcb3bee758d"
      },
      "source": [
        "from google.colab import drive\n",
        "drive.mount('/content/drive')"
      ],
      "execution_count": null,
      "outputs": [
        {
          "output_type": "stream",
          "text": [
            "Drive already mounted at /content/drive; to attempt to forcibly remount, call drive.mount(\"/content/drive\", force_remount=True).\n"
          ],
          "name": "stdout"
        }
      ]
    },
    {
      "cell_type": "markdown",
      "metadata": {
        "id": "TeBRExZCXTAC"
      },
      "source": [
        "The bike-sharing dataset is a piece of real-time information collected and published in an article by [Fanee, 2013]. The dataset is downloaded from the Kaggle website through  URL: https://www.kaggle.com/lakshmi25npathi/bike-sharing-dataset. It contains a CSV file, which is uploaded to the personal drive location so that the dataset can be imported and mounted to the colab working directory."
      ]
    },
    {
      "cell_type": "code",
      "metadata": {
        "id": "CU5lDQEEPnZk"
      },
      "source": [
        "# converting the dataset into a data frame format for priliminary data analysis\n",
        "\n",
        "ridesdata=pd.read_csv(\"drive/My Drive/Data Science/bike-sharing-dataset/day.csv\")"
      ],
      "execution_count": null,
      "outputs": []
    },
    {
      "cell_type": "code",
      "metadata": {
        "id": "o_3JxnkIQG-d",
        "colab": {
          "base_uri": "https://localhost:8080/",
          "height": 51
        },
        "outputId": "889037c8-6f30-4f56-fb20-c90d660f7fff"
      },
      "source": [
        "print(\"Number of instances in the day wise rides file: \",ridesdata.shape[0])\n",
        "print(\"Number of features in the day wise rides file: \",ridesdata.shape[1])"
      ],
      "execution_count": null,
      "outputs": [
        {
          "output_type": "stream",
          "text": [
            "Number of instances in the day wise rides file:  731\n",
            "Number of features in the day wise rides file:  16\n"
          ],
          "name": "stdout"
        }
      ]
    },
    {
      "cell_type": "code",
      "metadata": {
        "id": "vFrX70ehQLGC",
        "colab": {
          "base_uri": "https://localhost:8080/",
          "height": 204
        },
        "outputId": "72ab5d22-289a-4415-aa55-8f3adb5cf71b"
      },
      "source": [
        "ridesdata.head()"
      ],
      "execution_count": null,
      "outputs": [
        {
          "output_type": "execute_result",
          "data": {
            "text/html": [
              "<div>\n",
              "<style scoped>\n",
              "    .dataframe tbody tr th:only-of-type {\n",
              "        vertical-align: middle;\n",
              "    }\n",
              "\n",
              "    .dataframe tbody tr th {\n",
              "        vertical-align: top;\n",
              "    }\n",
              "\n",
              "    .dataframe thead th {\n",
              "        text-align: right;\n",
              "    }\n",
              "</style>\n",
              "<table border=\"1\" class=\"dataframe\">\n",
              "  <thead>\n",
              "    <tr style=\"text-align: right;\">\n",
              "      <th></th>\n",
              "      <th>instant</th>\n",
              "      <th>dteday</th>\n",
              "      <th>season</th>\n",
              "      <th>yr</th>\n",
              "      <th>mnth</th>\n",
              "      <th>holiday</th>\n",
              "      <th>weekday</th>\n",
              "      <th>workingday</th>\n",
              "      <th>weathersit</th>\n",
              "      <th>temp</th>\n",
              "      <th>atemp</th>\n",
              "      <th>hum</th>\n",
              "      <th>windspeed</th>\n",
              "      <th>casual</th>\n",
              "      <th>registered</th>\n",
              "      <th>cnt</th>\n",
              "    </tr>\n",
              "  </thead>\n",
              "  <tbody>\n",
              "    <tr>\n",
              "      <th>0</th>\n",
              "      <td>1</td>\n",
              "      <td>2011-01-01</td>\n",
              "      <td>1</td>\n",
              "      <td>0</td>\n",
              "      <td>1</td>\n",
              "      <td>0</td>\n",
              "      <td>6</td>\n",
              "      <td>0</td>\n",
              "      <td>2</td>\n",
              "      <td>0.344167</td>\n",
              "      <td>0.363625</td>\n",
              "      <td>0.805833</td>\n",
              "      <td>0.160446</td>\n",
              "      <td>331</td>\n",
              "      <td>654</td>\n",
              "      <td>985</td>\n",
              "    </tr>\n",
              "    <tr>\n",
              "      <th>1</th>\n",
              "      <td>2</td>\n",
              "      <td>2011-01-02</td>\n",
              "      <td>1</td>\n",
              "      <td>0</td>\n",
              "      <td>1</td>\n",
              "      <td>0</td>\n",
              "      <td>0</td>\n",
              "      <td>0</td>\n",
              "      <td>2</td>\n",
              "      <td>0.363478</td>\n",
              "      <td>0.353739</td>\n",
              "      <td>0.696087</td>\n",
              "      <td>0.248539</td>\n",
              "      <td>131</td>\n",
              "      <td>670</td>\n",
              "      <td>801</td>\n",
              "    </tr>\n",
              "    <tr>\n",
              "      <th>2</th>\n",
              "      <td>3</td>\n",
              "      <td>2011-01-03</td>\n",
              "      <td>1</td>\n",
              "      <td>0</td>\n",
              "      <td>1</td>\n",
              "      <td>0</td>\n",
              "      <td>1</td>\n",
              "      <td>1</td>\n",
              "      <td>1</td>\n",
              "      <td>0.196364</td>\n",
              "      <td>0.189405</td>\n",
              "      <td>0.437273</td>\n",
              "      <td>0.248309</td>\n",
              "      <td>120</td>\n",
              "      <td>1229</td>\n",
              "      <td>1349</td>\n",
              "    </tr>\n",
              "    <tr>\n",
              "      <th>3</th>\n",
              "      <td>4</td>\n",
              "      <td>2011-01-04</td>\n",
              "      <td>1</td>\n",
              "      <td>0</td>\n",
              "      <td>1</td>\n",
              "      <td>0</td>\n",
              "      <td>2</td>\n",
              "      <td>1</td>\n",
              "      <td>1</td>\n",
              "      <td>0.200000</td>\n",
              "      <td>0.212122</td>\n",
              "      <td>0.590435</td>\n",
              "      <td>0.160296</td>\n",
              "      <td>108</td>\n",
              "      <td>1454</td>\n",
              "      <td>1562</td>\n",
              "    </tr>\n",
              "    <tr>\n",
              "      <th>4</th>\n",
              "      <td>5</td>\n",
              "      <td>2011-01-05</td>\n",
              "      <td>1</td>\n",
              "      <td>0</td>\n",
              "      <td>1</td>\n",
              "      <td>0</td>\n",
              "      <td>3</td>\n",
              "      <td>1</td>\n",
              "      <td>1</td>\n",
              "      <td>0.226957</td>\n",
              "      <td>0.229270</td>\n",
              "      <td>0.436957</td>\n",
              "      <td>0.186900</td>\n",
              "      <td>82</td>\n",
              "      <td>1518</td>\n",
              "      <td>1600</td>\n",
              "    </tr>\n",
              "  </tbody>\n",
              "</table>\n",
              "</div>"
            ],
            "text/plain": [
              "   instant      dteday  season  yr  ...  windspeed  casual  registered   cnt\n",
              "0        1  2011-01-01       1   0  ...   0.160446     331         654   985\n",
              "1        2  2011-01-02       1   0  ...   0.248539     131         670   801\n",
              "2        3  2011-01-03       1   0  ...   0.248309     120        1229  1349\n",
              "3        4  2011-01-04       1   0  ...   0.160296     108        1454  1562\n",
              "4        5  2011-01-05       1   0  ...   0.186900      82        1518  1600\n",
              "\n",
              "[5 rows x 16 columns]"
            ]
          },
          "metadata": {
            "tags": []
          },
          "execution_count": 117
        }
      ]
    },
    {
      "cell_type": "code",
      "metadata": {
        "id": "CX3rtHABQk4_",
        "colab": {
          "base_uri": "https://localhost:8080/",
          "height": 204
        },
        "outputId": "f54cf245-c1bf-48bf-d8fd-3d155c323516"
      },
      "source": [
        "ridesdata.tail()"
      ],
      "execution_count": null,
      "outputs": [
        {
          "output_type": "execute_result",
          "data": {
            "text/html": [
              "<div>\n",
              "<style scoped>\n",
              "    .dataframe tbody tr th:only-of-type {\n",
              "        vertical-align: middle;\n",
              "    }\n",
              "\n",
              "    .dataframe tbody tr th {\n",
              "        vertical-align: top;\n",
              "    }\n",
              "\n",
              "    .dataframe thead th {\n",
              "        text-align: right;\n",
              "    }\n",
              "</style>\n",
              "<table border=\"1\" class=\"dataframe\">\n",
              "  <thead>\n",
              "    <tr style=\"text-align: right;\">\n",
              "      <th></th>\n",
              "      <th>instant</th>\n",
              "      <th>dteday</th>\n",
              "      <th>season</th>\n",
              "      <th>yr</th>\n",
              "      <th>mnth</th>\n",
              "      <th>holiday</th>\n",
              "      <th>weekday</th>\n",
              "      <th>workingday</th>\n",
              "      <th>weathersit</th>\n",
              "      <th>temp</th>\n",
              "      <th>atemp</th>\n",
              "      <th>hum</th>\n",
              "      <th>windspeed</th>\n",
              "      <th>casual</th>\n",
              "      <th>registered</th>\n",
              "      <th>cnt</th>\n",
              "    </tr>\n",
              "  </thead>\n",
              "  <tbody>\n",
              "    <tr>\n",
              "      <th>726</th>\n",
              "      <td>727</td>\n",
              "      <td>2012-12-27</td>\n",
              "      <td>1</td>\n",
              "      <td>1</td>\n",
              "      <td>12</td>\n",
              "      <td>0</td>\n",
              "      <td>4</td>\n",
              "      <td>1</td>\n",
              "      <td>2</td>\n",
              "      <td>0.254167</td>\n",
              "      <td>0.226642</td>\n",
              "      <td>0.652917</td>\n",
              "      <td>0.350133</td>\n",
              "      <td>247</td>\n",
              "      <td>1867</td>\n",
              "      <td>2114</td>\n",
              "    </tr>\n",
              "    <tr>\n",
              "      <th>727</th>\n",
              "      <td>728</td>\n",
              "      <td>2012-12-28</td>\n",
              "      <td>1</td>\n",
              "      <td>1</td>\n",
              "      <td>12</td>\n",
              "      <td>0</td>\n",
              "      <td>5</td>\n",
              "      <td>1</td>\n",
              "      <td>2</td>\n",
              "      <td>0.253333</td>\n",
              "      <td>0.255046</td>\n",
              "      <td>0.590000</td>\n",
              "      <td>0.155471</td>\n",
              "      <td>644</td>\n",
              "      <td>2451</td>\n",
              "      <td>3095</td>\n",
              "    </tr>\n",
              "    <tr>\n",
              "      <th>728</th>\n",
              "      <td>729</td>\n",
              "      <td>2012-12-29</td>\n",
              "      <td>1</td>\n",
              "      <td>1</td>\n",
              "      <td>12</td>\n",
              "      <td>0</td>\n",
              "      <td>6</td>\n",
              "      <td>0</td>\n",
              "      <td>2</td>\n",
              "      <td>0.253333</td>\n",
              "      <td>0.242400</td>\n",
              "      <td>0.752917</td>\n",
              "      <td>0.124383</td>\n",
              "      <td>159</td>\n",
              "      <td>1182</td>\n",
              "      <td>1341</td>\n",
              "    </tr>\n",
              "    <tr>\n",
              "      <th>729</th>\n",
              "      <td>730</td>\n",
              "      <td>2012-12-30</td>\n",
              "      <td>1</td>\n",
              "      <td>1</td>\n",
              "      <td>12</td>\n",
              "      <td>0</td>\n",
              "      <td>0</td>\n",
              "      <td>0</td>\n",
              "      <td>1</td>\n",
              "      <td>0.255833</td>\n",
              "      <td>0.231700</td>\n",
              "      <td>0.483333</td>\n",
              "      <td>0.350754</td>\n",
              "      <td>364</td>\n",
              "      <td>1432</td>\n",
              "      <td>1796</td>\n",
              "    </tr>\n",
              "    <tr>\n",
              "      <th>730</th>\n",
              "      <td>731</td>\n",
              "      <td>2012-12-31</td>\n",
              "      <td>1</td>\n",
              "      <td>1</td>\n",
              "      <td>12</td>\n",
              "      <td>0</td>\n",
              "      <td>1</td>\n",
              "      <td>1</td>\n",
              "      <td>2</td>\n",
              "      <td>0.215833</td>\n",
              "      <td>0.223487</td>\n",
              "      <td>0.577500</td>\n",
              "      <td>0.154846</td>\n",
              "      <td>439</td>\n",
              "      <td>2290</td>\n",
              "      <td>2729</td>\n",
              "    </tr>\n",
              "  </tbody>\n",
              "</table>\n",
              "</div>"
            ],
            "text/plain": [
              "     instant      dteday  season  yr  ...  windspeed  casual  registered   cnt\n",
              "726      727  2012-12-27       1   1  ...   0.350133     247        1867  2114\n",
              "727      728  2012-12-28       1   1  ...   0.155471     644        2451  3095\n",
              "728      729  2012-12-29       1   1  ...   0.124383     159        1182  1341\n",
              "729      730  2012-12-30       1   1  ...   0.350754     364        1432  1796\n",
              "730      731  2012-12-31       1   1  ...   0.154846     439        2290  2729\n",
              "\n",
              "[5 rows x 16 columns]"
            ]
          },
          "metadata": {
            "tags": []
          },
          "execution_count": 118
        }
      ]
    },
    {
      "cell_type": "code",
      "metadata": {
        "id": "R7ri7-6pQQwN",
        "colab": {
          "base_uri": "https://localhost:8080/",
          "height": 306
        },
        "outputId": "86c11c5c-6a3d-486b-8e52-363200a71df5"
      },
      "source": [
        "ridesdata.dtypes"
      ],
      "execution_count": null,
      "outputs": [
        {
          "output_type": "execute_result",
          "data": {
            "text/plain": [
              "instant         int64\n",
              "dteday         object\n",
              "season          int64\n",
              "yr              int64\n",
              "mnth            int64\n",
              "holiday         int64\n",
              "weekday         int64\n",
              "workingday      int64\n",
              "weathersit      int64\n",
              "temp          float64\n",
              "atemp         float64\n",
              "hum           float64\n",
              "windspeed     float64\n",
              "casual          int64\n",
              "registered      int64\n",
              "cnt             int64\n",
              "dtype: object"
            ]
          },
          "metadata": {
            "tags": []
          },
          "execution_count": 119
        }
      ]
    },
    {
      "cell_type": "markdown",
      "metadata": {
        "id": "HNldFUYgcFI9"
      },
      "source": [
        "**More information about these features is described in the dataset available location in Kaggle as the following:**\n",
        "\n",
        "instant: record index\n",
        "\n",
        "dteday : date\n",
        "\n",
        "season : season (1:springer, 2:summer, 3:fall, 4:winter)\n",
        "\n",
        "yr : year (0: 2011, 1:2012)\n",
        "\n",
        "mnth : month ( 1 to 12)\n",
        "\n",
        "holiday : weather day is holiday or not \n",
        "\n",
        "weekday : day of the week\n",
        "\n",
        "workingday : if day is neither weekend nor holiday is 1, otherwise is 0.\n",
        "\n",
        "weathersit :\n",
        "1: Clear, Few clouds, Partly cloudy, Partly cloudy\n",
        "\n",
        "2: Mist + Cloudy, Mist + Broken clouds, Mist + Few clouds, Mist\n",
        "\n",
        "3: Light Snow, Light Rain + Thunderstorm + Scattered clouds, Light Rain + Scattered clouds\n",
        "\n",
        "4: Heavy Rain + Ice Pallets + Thunderstorm + Mist, Snow + Fog\n",
        "\n",
        "temp : Normalized temperature in Celsius. The values are derived via (t-t_min)/(t_max-t_min), t_min=-8, t_max=+39 (only in hourly scale)\n",
        "\n",
        "atemp: Normalized feeling temperature in Celsius. The values are derived via (t-t_min)/(t_max-t_min), t_min=-16, t_max=+50 (only in hourly scale)\n",
        "\n",
        "hum: Normalized humidity. The values are divided to 100 (max)\n",
        "\n",
        "windspeed: Normalized wind speed. The values are divided to 67 (max)\n",
        "\n",
        "casual: count of casual users\n",
        "\n",
        "registered: count of registered users\n",
        "\n",
        "cnt: count of total rental bikes including both casual and registered"
      ]
    },
    {
      "cell_type": "code",
      "metadata": {
        "id": "N43MJysKeh8-"
      },
      "source": [
        "#renaming the features for better understanding\n",
        "\n",
        "ridesdata.rename(columns={'instant':'Id',\n",
        "                        'dteday':'Datetime',\n",
        "                        'yr':'year',\n",
        "                        'holiday':'is_holiday',\n",
        "                        'workingday':'is_workingday',\n",
        "                        'weathersit':'Weather_condition',\n",
        "                        'hum':'Humidity',\n",
        "                        'mnth':'Month',\n",
        "                        'casual':'casual_users_rides',\n",
        "                        'registered':'registered_users_rides',\n",
        "                        'cnt':'rides_count'},inplace=True)"
      ],
      "execution_count": null,
      "outputs": []
    },
    {
      "cell_type": "markdown",
      "metadata": {
        "id": "ycCtUYWeiSkp"
      },
      "source": [
        "**Justification for features removal:**\n",
        "\n",
        "1. Temp and atemp features are both holding the normalized temperature in Celcius with a different minimum and maximum range values on an hourly scale. As both of them are representing the same data, eliminating the second feature i.e., atemp.\n",
        "\n",
        "2.Datetime feature data is explicitly described as other features like a month, year, weekday, is_holiday, is_workingday and season. So this object data feature is never user in the further analysis process and hence eliminating it."
      ]
    },
    {
      "cell_type": "code",
      "metadata": {
        "id": "rRkzTEZviRGG"
      },
      "source": [
        "del ridesdata['Datetime']\n",
        "del ridesdata['atemp']"
      ],
      "execution_count": null,
      "outputs": []
    },
    {
      "cell_type": "code",
      "metadata": {
        "id": "mVwK_SzNXqLN",
        "colab": {
          "base_uri": "https://localhost:8080/",
          "height": 317
        },
        "outputId": "da270b78-dbb7-46de-8ccf-c2a93bcf3f15"
      },
      "source": [
        "ridesdata.describe()"
      ],
      "execution_count": null,
      "outputs": [
        {
          "output_type": "execute_result",
          "data": {
            "text/html": [
              "<div>\n",
              "<style scoped>\n",
              "    .dataframe tbody tr th:only-of-type {\n",
              "        vertical-align: middle;\n",
              "    }\n",
              "\n",
              "    .dataframe tbody tr th {\n",
              "        vertical-align: top;\n",
              "    }\n",
              "\n",
              "    .dataframe thead th {\n",
              "        text-align: right;\n",
              "    }\n",
              "</style>\n",
              "<table border=\"1\" class=\"dataframe\">\n",
              "  <thead>\n",
              "    <tr style=\"text-align: right;\">\n",
              "      <th></th>\n",
              "      <th>Id</th>\n",
              "      <th>season</th>\n",
              "      <th>year</th>\n",
              "      <th>Month</th>\n",
              "      <th>is_holiday</th>\n",
              "      <th>weekday</th>\n",
              "      <th>is_workingday</th>\n",
              "      <th>Weather_condition</th>\n",
              "      <th>temp</th>\n",
              "      <th>Humidity</th>\n",
              "      <th>windspeed</th>\n",
              "      <th>casual_users_rides</th>\n",
              "      <th>registered_users_rides</th>\n",
              "      <th>rides_count</th>\n",
              "    </tr>\n",
              "  </thead>\n",
              "  <tbody>\n",
              "    <tr>\n",
              "      <th>count</th>\n",
              "      <td>731.000000</td>\n",
              "      <td>731.000000</td>\n",
              "      <td>731.000000</td>\n",
              "      <td>731.000000</td>\n",
              "      <td>731.000000</td>\n",
              "      <td>731.000000</td>\n",
              "      <td>731.000000</td>\n",
              "      <td>731.000000</td>\n",
              "      <td>731.000000</td>\n",
              "      <td>731.000000</td>\n",
              "      <td>731.000000</td>\n",
              "      <td>731.000000</td>\n",
              "      <td>731.000000</td>\n",
              "      <td>731.000000</td>\n",
              "    </tr>\n",
              "    <tr>\n",
              "      <th>mean</th>\n",
              "      <td>366.000000</td>\n",
              "      <td>2.496580</td>\n",
              "      <td>0.500684</td>\n",
              "      <td>6.519836</td>\n",
              "      <td>0.028728</td>\n",
              "      <td>2.997264</td>\n",
              "      <td>0.683995</td>\n",
              "      <td>1.395349</td>\n",
              "      <td>0.495385</td>\n",
              "      <td>0.627894</td>\n",
              "      <td>0.190486</td>\n",
              "      <td>848.176471</td>\n",
              "      <td>3656.172367</td>\n",
              "      <td>4504.348837</td>\n",
              "    </tr>\n",
              "    <tr>\n",
              "      <th>std</th>\n",
              "      <td>211.165812</td>\n",
              "      <td>1.110807</td>\n",
              "      <td>0.500342</td>\n",
              "      <td>3.451913</td>\n",
              "      <td>0.167155</td>\n",
              "      <td>2.004787</td>\n",
              "      <td>0.465233</td>\n",
              "      <td>0.544894</td>\n",
              "      <td>0.183051</td>\n",
              "      <td>0.142429</td>\n",
              "      <td>0.077498</td>\n",
              "      <td>686.622488</td>\n",
              "      <td>1560.256377</td>\n",
              "      <td>1937.211452</td>\n",
              "    </tr>\n",
              "    <tr>\n",
              "      <th>min</th>\n",
              "      <td>1.000000</td>\n",
              "      <td>1.000000</td>\n",
              "      <td>0.000000</td>\n",
              "      <td>1.000000</td>\n",
              "      <td>0.000000</td>\n",
              "      <td>0.000000</td>\n",
              "      <td>0.000000</td>\n",
              "      <td>1.000000</td>\n",
              "      <td>0.059130</td>\n",
              "      <td>0.000000</td>\n",
              "      <td>0.022392</td>\n",
              "      <td>2.000000</td>\n",
              "      <td>20.000000</td>\n",
              "      <td>22.000000</td>\n",
              "    </tr>\n",
              "    <tr>\n",
              "      <th>25%</th>\n",
              "      <td>183.500000</td>\n",
              "      <td>2.000000</td>\n",
              "      <td>0.000000</td>\n",
              "      <td>4.000000</td>\n",
              "      <td>0.000000</td>\n",
              "      <td>1.000000</td>\n",
              "      <td>0.000000</td>\n",
              "      <td>1.000000</td>\n",
              "      <td>0.337083</td>\n",
              "      <td>0.520000</td>\n",
              "      <td>0.134950</td>\n",
              "      <td>315.500000</td>\n",
              "      <td>2497.000000</td>\n",
              "      <td>3152.000000</td>\n",
              "    </tr>\n",
              "    <tr>\n",
              "      <th>50%</th>\n",
              "      <td>366.000000</td>\n",
              "      <td>3.000000</td>\n",
              "      <td>1.000000</td>\n",
              "      <td>7.000000</td>\n",
              "      <td>0.000000</td>\n",
              "      <td>3.000000</td>\n",
              "      <td>1.000000</td>\n",
              "      <td>1.000000</td>\n",
              "      <td>0.498333</td>\n",
              "      <td>0.626667</td>\n",
              "      <td>0.180975</td>\n",
              "      <td>713.000000</td>\n",
              "      <td>3662.000000</td>\n",
              "      <td>4548.000000</td>\n",
              "    </tr>\n",
              "    <tr>\n",
              "      <th>75%</th>\n",
              "      <td>548.500000</td>\n",
              "      <td>3.000000</td>\n",
              "      <td>1.000000</td>\n",
              "      <td>10.000000</td>\n",
              "      <td>0.000000</td>\n",
              "      <td>5.000000</td>\n",
              "      <td>1.000000</td>\n",
              "      <td>2.000000</td>\n",
              "      <td>0.655417</td>\n",
              "      <td>0.730209</td>\n",
              "      <td>0.233214</td>\n",
              "      <td>1096.000000</td>\n",
              "      <td>4776.500000</td>\n",
              "      <td>5956.000000</td>\n",
              "    </tr>\n",
              "    <tr>\n",
              "      <th>max</th>\n",
              "      <td>731.000000</td>\n",
              "      <td>4.000000</td>\n",
              "      <td>1.000000</td>\n",
              "      <td>12.000000</td>\n",
              "      <td>1.000000</td>\n",
              "      <td>6.000000</td>\n",
              "      <td>1.000000</td>\n",
              "      <td>3.000000</td>\n",
              "      <td>0.861667</td>\n",
              "      <td>0.972500</td>\n",
              "      <td>0.507463</td>\n",
              "      <td>3410.000000</td>\n",
              "      <td>6946.000000</td>\n",
              "      <td>8714.000000</td>\n",
              "    </tr>\n",
              "  </tbody>\n",
              "</table>\n",
              "</div>"
            ],
            "text/plain": [
              "               Id      season  ...  registered_users_rides  rides_count\n",
              "count  731.000000  731.000000  ...              731.000000   731.000000\n",
              "mean   366.000000    2.496580  ...             3656.172367  4504.348837\n",
              "std    211.165812    1.110807  ...             1560.256377  1937.211452\n",
              "min      1.000000    1.000000  ...               20.000000    22.000000\n",
              "25%    183.500000    2.000000  ...             2497.000000  3152.000000\n",
              "50%    366.000000    3.000000  ...             3662.000000  4548.000000\n",
              "75%    548.500000    3.000000  ...             4776.500000  5956.000000\n",
              "max    731.000000    4.000000  ...             6946.000000  8714.000000\n",
              "\n",
              "[8 rows x 14 columns]"
            ]
          },
          "metadata": {
            "tags": []
          },
          "execution_count": 122
        }
      ]
    },
    {
      "cell_type": "code",
      "metadata": {
        "id": "jHx0EqcmQrjk",
        "colab": {
          "base_uri": "https://localhost:8080/",
          "height": 340
        },
        "outputId": "2a2f17c4-3c25-47e5-af1e-90abfa7433ca"
      },
      "source": [
        "ridesdata.info()"
      ],
      "execution_count": null,
      "outputs": [
        {
          "output_type": "stream",
          "text": [
            "<class 'pandas.core.frame.DataFrame'>\n",
            "RangeIndex: 731 entries, 0 to 730\n",
            "Data columns (total 14 columns):\n",
            "Id                        731 non-null int64\n",
            "season                    731 non-null int64\n",
            "year                      731 non-null int64\n",
            "Month                     731 non-null int64\n",
            "is_holiday                731 non-null int64\n",
            "weekday                   731 non-null int64\n",
            "is_workingday             731 non-null int64\n",
            "Weather_condition         731 non-null int64\n",
            "temp                      731 non-null float64\n",
            "Humidity                  731 non-null float64\n",
            "windspeed                 731 non-null float64\n",
            "casual_users_rides        731 non-null int64\n",
            "registered_users_rides    731 non-null int64\n",
            "rides_count               731 non-null int64\n",
            "dtypes: float64(3), int64(11)\n",
            "memory usage: 80.0 KB\n"
          ],
          "name": "stdout"
        }
      ]
    },
    {
      "cell_type": "code",
      "metadata": {
        "id": "172QPsUMnTDl",
        "colab": {
          "base_uri": "https://localhost:8080/",
          "height": 68
        },
        "outputId": "296dcd99-6e63-4c58-c1fd-953faccb315b"
      },
      "source": [
        "print(ridesdata.size)\n",
        "print(ridesdata.shape)\n",
        "print(ridesdata.ndim)"
      ],
      "execution_count": null,
      "outputs": [
        {
          "output_type": "stream",
          "text": [
            "10234\n",
            "(731, 14)\n",
            "2\n"
          ],
          "name": "stdout"
        }
      ]
    },
    {
      "cell_type": "markdown",
      "metadata": {
        "id": "o57kLvs1WEjr"
      },
      "source": [
        "The features like the year, is_holiday, is_workingday have only the values 0 or 1. So instead of being a numeric feature, they can be converted into categorical form to make it more significant. Therefore, converting them into categorical features and replacing 0 and 1 with appropriate values."
      ]
    },
    {
      "cell_type": "code",
      "metadata": {
        "id": "ybbX_k-Zf6lg"
      },
      "source": [
        "years=pd.Categorical(ridesdata['year'])"
      ],
      "execution_count": null,
      "outputs": []
    },
    {
      "cell_type": "code",
      "metadata": {
        "id": "s1tdA7t6gVpu"
      },
      "source": [
        "years=years.rename_categories([\"2011\",\"2012\"])"
      ],
      "execution_count": null,
      "outputs": []
    },
    {
      "cell_type": "code",
      "metadata": {
        "id": "-9NVfcsuglJv",
        "colab": {
          "base_uri": "https://localhost:8080/",
          "height": 85
        },
        "outputId": "3bb5266b-b064-4c4c-d9ad-2259e3273699"
      },
      "source": [
        "print(years.describe())\n",
        "\n",
        "# ridesdata['year']=years"
      ],
      "execution_count": null,
      "outputs": [
        {
          "output_type": "stream",
          "text": [
            "            counts     freqs\n",
            "categories                  \n",
            "2011           365  0.499316\n",
            "2012           366  0.500684\n"
          ],
          "name": "stdout"
        }
      ]
    },
    {
      "cell_type": "code",
      "metadata": {
        "id": "9SexNNujg0Az",
        "colab": {
          "base_uri": "https://localhost:8080/",
          "height": 85
        },
        "outputId": "63c5f63d-7faa-4625-eae8-57b5b9388ab3"
      },
      "source": [
        "#similarly modifying likewise features\n",
        "\n",
        "is_holiday=pd.Categorical(ridesdata['is_holiday'])\n",
        "\n",
        "is_holiday=is_holiday.rename_categories([\"no\",\"yes\"])\n",
        "\n",
        "print(is_holiday.describe())\n",
        "\n",
        "# ridesdata['is_holiday']=is_holiday"
      ],
      "execution_count": null,
      "outputs": [
        {
          "output_type": "stream",
          "text": [
            "            counts     freqs\n",
            "categories                  \n",
            "no             710  0.971272\n",
            "yes             21  0.028728\n"
          ],
          "name": "stdout"
        }
      ]
    },
    {
      "cell_type": "code",
      "metadata": {
        "id": "dV3DQ8Ddj1PI",
        "colab": {
          "base_uri": "https://localhost:8080/",
          "height": 85
        },
        "outputId": "fbf41985-476d-46d0-e260-a3177ba4601a"
      },
      "source": [
        "is_workingday=pd.Categorical(ridesdata['is_workingday'])\n",
        "is_workingday=is_workingday.rename_categories([\"no\",\"yes\"])\n",
        "\n",
        "print(is_workingday.describe())\n",
        "\n",
        "# ridesdata['is_workingday']=is_workingday"
      ],
      "execution_count": null,
      "outputs": [
        {
          "output_type": "stream",
          "text": [
            "            counts     freqs\n",
            "categories                  \n",
            "no             231  0.316005\n",
            "yes            500  0.683995\n"
          ],
          "name": "stdout"
        }
      ]
    },
    {
      "cell_type": "code",
      "metadata": {
        "id": "NYAPM_Hfj1Hg",
        "colab": {
          "base_uri": "https://localhost:8080/",
          "height": 204
        },
        "outputId": "afee0394-1606-45a2-b845-b987393c3a3b"
      },
      "source": [
        "seasons=pd.Categorical(ridesdata['season'])\n",
        "\n",
        "#renaming categories based on the dates present in the Datetime feature\n",
        "\n",
        "seasons=seasons.rename_categories([\"winter\",\"spring\",\"summer\",\"fall\"])\n",
        "\n",
        "seasons.describe()"
      ],
      "execution_count": null,
      "outputs": [
        {
          "output_type": "execute_result",
          "data": {
            "text/html": [
              "<div>\n",
              "<style scoped>\n",
              "    .dataframe tbody tr th:only-of-type {\n",
              "        vertical-align: middle;\n",
              "    }\n",
              "\n",
              "    .dataframe tbody tr th {\n",
              "        vertical-align: top;\n",
              "    }\n",
              "\n",
              "    .dataframe thead th {\n",
              "        text-align: right;\n",
              "    }\n",
              "</style>\n",
              "<table border=\"1\" class=\"dataframe\">\n",
              "  <thead>\n",
              "    <tr style=\"text-align: right;\">\n",
              "      <th></th>\n",
              "      <th>counts</th>\n",
              "      <th>freqs</th>\n",
              "    </tr>\n",
              "    <tr>\n",
              "      <th>categories</th>\n",
              "      <th></th>\n",
              "      <th></th>\n",
              "    </tr>\n",
              "  </thead>\n",
              "  <tbody>\n",
              "    <tr>\n",
              "      <th>winter</th>\n",
              "      <td>181</td>\n",
              "      <td>0.247606</td>\n",
              "    </tr>\n",
              "    <tr>\n",
              "      <th>spring</th>\n",
              "      <td>184</td>\n",
              "      <td>0.251710</td>\n",
              "    </tr>\n",
              "    <tr>\n",
              "      <th>summer</th>\n",
              "      <td>188</td>\n",
              "      <td>0.257182</td>\n",
              "    </tr>\n",
              "    <tr>\n",
              "      <th>fall</th>\n",
              "      <td>178</td>\n",
              "      <td>0.243502</td>\n",
              "    </tr>\n",
              "  </tbody>\n",
              "</table>\n",
              "</div>"
            ],
            "text/plain": [
              "            counts     freqs\n",
              "categories                  \n",
              "winter         181  0.247606\n",
              "spring         184  0.251710\n",
              "summer         188  0.257182\n",
              "fall           178  0.243502"
            ]
          },
          "metadata": {
            "tags": []
          },
          "execution_count": 130
        }
      ]
    },
    {
      "cell_type": "code",
      "metadata": {
        "id": "JOTm0or9Ye9L",
        "colab": {
          "base_uri": "https://localhost:8080/",
          "height": 501
        },
        "outputId": "5bdda0d1-8e37-433f-c1e2-b141bb35b3c9"
      },
      "source": [
        "#checking for any anamolies in the normalized data features (temperature, windspeed \n",
        "#and Humidity) through box plot\n",
        "\n",
        "fig=plt.subplots(figsize=(10,8))\n",
        "colors={\"temp\": \"g\", \"windspeed\": \"b\", \"Humidity\":\"m\"}\n",
        "sns.boxplot(data=ridesdata[['temp','windspeed','Humidity']],palette=colors)\n",
        "plt.title('Anamolies distribution in Temperature, Windspeed and Humidity')\n",
        "plt.show()"
      ],
      "execution_count": null,
      "outputs": [
        {
          "output_type": "display_data",
          "data": {
            "image/png": "[encoded data removed]",
            "text/plain": [
              "<Figure size 720x576 with 1 Axes>"
            ]
          },
          "metadata": {
            "tags": []
          }
        }
      ]
    },
    {
      "cell_type": "code",
      "metadata": {
        "id": "mKGNgaDUAG5C",
        "colab": {
          "base_uri": "https://localhost:8080/",
          "height": 546
        },
        "outputId": "91a56bd8-845b-4ec9-bd57-91aeac1fde12"
      },
      "source": [
        "ridesdata.hist(column=\"windspeed\",figsize=(9,6),bins=20)\n",
        "\n",
        "ridesdata['windspeed'].describe()"
      ],
      "execution_count": null,
      "outputs": [
        {
          "output_type": "execute_result",
          "data": {
            "text/plain": [
              "count    731.000000\n",
              "mean       0.190486\n",
              "std        0.077498\n",
              "min        0.022392\n",
              "25%        0.134950\n",
              "50%        0.180975\n",
              "75%        0.233214\n",
              "max        0.507463\n",
              "Name: windspeed, dtype: float64"
            ]
          },
          "metadata": {
            "tags": []
          },
          "execution_count": 132
        },
        {
          "output_type": "display_data",
          "data": {
            "image/png": "[encoded data removed]",
            "text/plain": [
              "<Figure size 648x432 with 1 Axes>"
            ]
          },
          "metadata": {
            "tags": []
          }
        }
      ]
    },
    {
      "cell_type": "code",
      "metadata": {
        "id": "wHBX_pkMIJYZ"
      },
      "source": [
        "#replacing all the outlier values (>0.35) with the median value of windspeed\n",
        "\n",
        "median_windspeed= ridesdata.loc[ridesdata['windspeed']<0.35, 'windspeed'].median()"
      ],
      "execution_count": null,
      "outputs": []
    },
    {
      "cell_type": "code",
      "metadata": {
        "id": "mQLgbO2zVpoH"
      },
      "source": [
        "ridesdata.loc[ridesdata.windspeed > 0.35, 'windspeed'] = np.nan"
      ],
      "execution_count": null,
      "outputs": []
    },
    {
      "cell_type": "code",
      "metadata": {
        "id": "Fa4fo95sVsbf"
      },
      "source": [
        "ridesdata.fillna(median_windspeed,inplace=True)"
      ],
      "execution_count": null,
      "outputs": []
    },
    {
      "cell_type": "code",
      "metadata": {
        "id": "7isg7MgNXCgO",
        "colab": {
          "base_uri": "https://localhost:8080/",
          "height": 546
        },
        "outputId": "ea0cca6e-ca6c-414a-efb1-443a02d1f661"
      },
      "source": [
        "#similarly modifying the anamolies in Humidity feature with its median values\n",
        "\n",
        "ridesdata.hist(column=\"Humidity\",figsize=(9,6),bins=20)\n",
        "\n",
        "ridesdata['Humidity'].describe()"
      ],
      "execution_count": null,
      "outputs": [
        {
          "output_type": "execute_result",
          "data": {
            "text/plain": [
              "count    731.000000\n",
              "mean       0.627894\n",
              "std        0.142429\n",
              "min        0.000000\n",
              "25%        0.520000\n",
              "50%        0.626667\n",
              "75%        0.730209\n",
              "max        0.972500\n",
              "Name: Humidity, dtype: float64"
            ]
          },
          "metadata": {
            "tags": []
          },
          "execution_count": 136
        },
        {
          "output_type": "display_data",
          "data": {
            "image/png": "[encoded data removed]",
            "text/plain": [
              "<Figure size 648x432 with 1 Axes>"
            ]
          },
          "metadata": {
            "tags": []
          }
        }
      ]
    },
    {
      "cell_type": "code",
      "metadata": {
        "id": "U2rNxCtOXV5U"
      },
      "source": [
        "#replacing all the outlier values (<0.2) with the median value\n",
        "\n",
        "median_humidity= ridesdata.loc[ridesdata['Humidity']>0.2, 'Humidity'].median()"
      ],
      "execution_count": null,
      "outputs": []
    },
    {
      "cell_type": "code",
      "metadata": {
        "id": "2visNhBJcIHt"
      },
      "source": [
        "ridesdata.loc[ridesdata.Humidity <0.2, 'Humidity'] = np.nan"
      ],
      "execution_count": null,
      "outputs": []
    },
    {
      "cell_type": "code",
      "metadata": {
        "id": "sX86SpaTcT1c"
      },
      "source": [
        "ridesdata.fillna(median_humidity,inplace=True)"
      ],
      "execution_count": null,
      "outputs": []
    },
    {
      "cell_type": "code",
      "metadata": {
        "id": "0_eNFa4ach3h",
        "colab": {
          "base_uri": "https://localhost:8080/",
          "height": 501
        },
        "outputId": "6cb0e49a-7170-4682-94dc-d6e89252077f"
      },
      "source": [
        "fig=plt.subplots(figsize=(10,8))\n",
        "colors={\"temp\": \"g\", \"windspeed\": \"b\", \"Humidity\":\"m\"}\n",
        "sns.boxplot(data=ridesdata[['temp','windspeed','Humidity']],palette=colors)\n",
        "plt.title('Distribution of Temperature, Windspeed and Humidity after anamolies rectification')\n",
        "plt.show()"
      ],
      "execution_count": null,
      "outputs": [
        {
          "output_type": "display_data",
          "data": {
            "image/png": "[encoded data removed]",
            "text/plain": [
              "<Figure size 720x576 with 1 Axes>"
            ]
          },
          "metadata": {
            "tags": []
          }
        }
      ]
    },
    {
      "cell_type": "code",
      "metadata": {
        "id": "a31MuJPmhxN0",
        "colab": {
          "base_uri": "https://localhost:8080/",
          "height": 518
        },
        "outputId": "d88261eb-9276-4c3f-9f55-46797b636b74"
      },
      "source": [
        "#comparing the bike rides yearly and the influence of holidays in a most rides count day.\n",
        "\n",
        "plt.subplots(figsize=(10,8))\n",
        "sns.set(style=\"whitegrid\")\n",
        "sns.swarmplot(x='year',y='rides_count',hue=ridesdata['is_holiday'],\n",
        "              data=ridesdata[['year','rides_count']])\n",
        "plt.title('Year wise distribution of rides usually on holidays and other days')\n",
        "plt.show()"
      ],
      "execution_count": null,
      "outputs": [
        {
          "output_type": "display_data",
          "data": {
            "image/png": "[encoded data removed]",
            "text/plain": [
              "<Figure size 720x576 with 1 Axes>"
            ]
          },
          "metadata": {
            "tags": []
          }
        }
      ]
    },
    {
      "cell_type": "code",
      "metadata": {
        "id": "8XCxVLx0YYiD"
      },
      "source": [
        "#finding the rides distribution for each month\n",
        "\n",
        "months=list(ridesdata.Month.unique())"
      ],
      "execution_count": null,
      "outputs": []
    },
    {
      "cell_type": "code",
      "metadata": {
        "id": "NDyjOQ7BYpbc"
      },
      "source": [
        "ridecount=[]\n",
        "\n",
        "# finding each month's total rides count\n",
        "for i in months:\n",
        "    x = ridesdata[ridesdata.Month == i]\n",
        "    ridecount.append(sum(x[\"rides_count\"]))"
      ],
      "execution_count": null,
      "outputs": []
    },
    {
      "cell_type": "code",
      "metadata": {
        "id": "_5qUwEV_Zfm9",
        "colab": {
          "base_uri": "https://localhost:8080/",
          "height": 421
        },
        "outputId": "d70e2915-1be4-4caa-e8dc-f307d3e8eb2a"
      },
      "source": [
        "#new data frame to hold rides count corresponding to each month\n",
        "\n",
        "ridescount_month = pd.DataFrame({\"Month\":months, \"Rides_count\":ridecount})\n",
        "\n",
        "ridescount_month"
      ],
      "execution_count": null,
      "outputs": [
        {
          "output_type": "execute_result",
          "data": {
            "text/html": [
              "<div>\n",
              "<style scoped>\n",
              "    .dataframe tbody tr th:only-of-type {\n",
              "        vertical-align: middle;\n",
              "    }\n",
              "\n",
              "    .dataframe tbody tr th {\n",
              "        vertical-align: top;\n",
              "    }\n",
              "\n",
              "    .dataframe thead th {\n",
              "        text-align: right;\n",
              "    }\n",
              "</style>\n",
              "<table border=\"1\" class=\"dataframe\">\n",
              "  <thead>\n",
              "    <tr style=\"text-align: right;\">\n",
              "      <th></th>\n",
              "      <th>Month</th>\n",
              "      <th>Rides_count</th>\n",
              "    </tr>\n",
              "  </thead>\n",
              "  <tbody>\n",
              "    <tr>\n",
              "      <th>0</th>\n",
              "      <td>1</td>\n",
              "      <td>134933</td>\n",
              "    </tr>\n",
              "    <tr>\n",
              "      <th>1</th>\n",
              "      <td>2</td>\n",
              "      <td>151352</td>\n",
              "    </tr>\n",
              "    <tr>\n",
              "      <th>2</th>\n",
              "      <td>3</td>\n",
              "      <td>228920</td>\n",
              "    </tr>\n",
              "    <tr>\n",
              "      <th>3</th>\n",
              "      <td>4</td>\n",
              "      <td>269094</td>\n",
              "    </tr>\n",
              "    <tr>\n",
              "      <th>4</th>\n",
              "      <td>5</td>\n",
              "      <td>331686</td>\n",
              "    </tr>\n",
              "    <tr>\n",
              "      <th>5</th>\n",
              "      <td>6</td>\n",
              "      <td>346342</td>\n",
              "    </tr>\n",
              "    <tr>\n",
              "      <th>6</th>\n",
              "      <td>7</td>\n",
              "      <td>344948</td>\n",
              "    </tr>\n",
              "    <tr>\n",
              "      <th>7</th>\n",
              "      <td>8</td>\n",
              "      <td>351194</td>\n",
              "    </tr>\n",
              "    <tr>\n",
              "      <th>8</th>\n",
              "      <td>9</td>\n",
              "      <td>345991</td>\n",
              "    </tr>\n",
              "    <tr>\n",
              "      <th>9</th>\n",
              "      <td>10</td>\n",
              "      <td>322352</td>\n",
              "    </tr>\n",
              "    <tr>\n",
              "      <th>10</th>\n",
              "      <td>11</td>\n",
              "      <td>254831</td>\n",
              "    </tr>\n",
              "    <tr>\n",
              "      <th>11</th>\n",
              "      <td>12</td>\n",
              "      <td>211036</td>\n",
              "    </tr>\n",
              "  </tbody>\n",
              "</table>\n",
              "</div>"
            ],
            "text/plain": [
              "    Month  Rides_count\n",
              "0       1       134933\n",
              "1       2       151352\n",
              "2       3       228920\n",
              "3       4       269094\n",
              "4       5       331686\n",
              "5       6       346342\n",
              "6       7       344948\n",
              "7       8       351194\n",
              "8       9       345991\n",
              "9      10       322352\n",
              "10     11       254831\n",
              "11     12       211036"
            ]
          },
          "metadata": {
            "tags": []
          },
          "execution_count": 144
        }
      ]
    },
    {
      "cell_type": "code",
      "metadata": {
        "id": "KAI7P9rraAh_",
        "colab": {
          "base_uri": "https://localhost:8080/",
          "height": 627
        },
        "outputId": "d553d137-3796-4906-af7c-6b53d4f04982"
      },
      "source": [
        "#plotting the bar chart of the rides count in their respective Month\n",
        "\n",
        "\n",
        "plt.figure(figsize=(10,10))\n",
        "sns.barplot(x=\"Month\", y=\"Rides_count\", data=ridescount_month,\n",
        "            palette=\"viridis\")\n",
        "plt.xlabel(\"Months\")\n",
        "plt.ylabel(\"Total rides\")\n",
        "plt.title(\"Rides count in each month\")\n",
        "plt.show()"
      ],
      "execution_count": null,
      "outputs": [
        {
          "output_type": "display_data",
          "data": {
            "image/png": "[encoded data removed]",
            "text/plain": [
              "<Figure size 720x720 with 1 Axes>"
            ]
          },
          "metadata": {
            "tags": []
          }
        }
      ]
    },
    {
      "cell_type": "code",
      "metadata": {
        "id": "Qbwe6nikcEEI",
        "colab": {
          "base_uri": "https://localhost:8080/",
          "height": 518
        },
        "outputId": "a4db151a-59f8-48f3-d0af-06b7db6aaaa9"
      },
      "source": [
        "plt.figure(figsize=(10,8))\n",
        "sns.barplot(x='Month',y='rides_count',\n",
        "            data=ridesdata[['Month','rides_count','season']],hue='season')\n",
        "plt.xlabel(\"Months\")\n",
        "plt.ylabel(\"rides count\")\n",
        "plt.title('Season wise monthly distribution of counts')\n",
        "plt.show()"
      ],
      "execution_count": null,
      "outputs": [
        {
          "output_type": "display_data",
          "data": {
            "image/png": "[encoded data removed]",
            "text/plain": [
              "<Figure size 720x576 with 1 Axes>"
            ]
          },
          "metadata": {
            "tags": []
          }
        }
      ]
    },
    {
      "cell_type": "code",
      "metadata": {
        "id": "7DpYURqLoxcY"
      },
      "source": [
        "#storing this scrubbed data frame into a csv for further analysis.\n",
        "\n",
        "ridesdata.to_csv('ridesdata.csv', sep=',', index=False)"
      ],
      "execution_count": null,
      "outputs": []
    },
    {
      "cell_type": "markdown",
      "metadata": {
        "id": "zggVTKwuQEVh"
      },
      "source": [
        "**Observations:**\n",
        "\n",
        "The list of interpretations that are derived from the sequence of steps that are trailed after the initial scrubbing process of the data as mentioned below. They are:\n",
        "1. The Temperature, Humidity and Windspeed are the normalised features, which have a different range of distribution values between 0 and 1. The rides count is a feature that is purely dependent on multiple factors like the weather situation of that day, day type (weekday or weekend) and holidays.\n",
        "2. The Swarn plot of bike rides against the annual year 2010 and 2011, it is seen that there are more rides generated in the succeeding year, than in the previous year. It is also identified that being a holiday has an uneven distribution spread in the total rides count, which means that there is an equal probability of any day to experience a huge number of rides.\n",
        "3. The first bar plot shows the total rides spread for each month for both the years. August month has the highest number of rides than any other months and January is the only month with the least number of rides. June and September months have almost an equal number of rides.\n",
        "4. The second bar plot is a similar comparison plot that represents the Seasons vs the rides count. These bars illustrate the seasonal division of rides and clearly states that Summer is a full time best rides throughout the season as it has recorded the highest number of rides when compared with any other season months. And winter is the least preferred season for this bike rental services.\n",
        "5. The most common thing in the rides distribution of both the bar graphs follows an upward trend at the beginning of the year and a downward trend in the ending of the year."
      ]
    },
    {
      "cell_type": "markdown",
      "metadata": {
        "id": "NXMC1Ev5WfMJ"
      },
      "source": [
        "**Conclusion:**\n",
        "\n",
        "It is well defined that the seasons i.e., the atmosphere and weather condition of the day determines the rides count of any day in a year. So the trend followed by the bike rides frequency in this region follows a normal distribution within a year. Hence, given this type of region with similar climatic conditions, it is possible to predict the regularity in bike rides and their frequencies. It is most likely to choose the regression model ending path in selecting an algorithm for forecasting the bike ride counts."
      ]
    },
    {
      "cell_type": "markdown",
      "metadata": {
        "id": "8K2TBie2XZF1"
      },
      "source": [
        "[1] Fanaee-T, Hadi, and Gama, Joao, \"Event labeling combining ensemble detectors and background knowledge\", Progress in Artificial Intelligence (2013): pp. 1-15, Springer Berlin Heidelberg, doi:10.1007/s13748-013-0040-3."
      ]
    }
  ]
}